{
 "cells": [
  {
   "cell_type": "markdown",
   "metadata": {},
   "source": [
    "# CS464 Introduction to Machine Learning Homework 2 Question 3 - Logistic Regression"
   ]
  },
  {
   "cell_type": "code",
   "execution_count": 1,
   "metadata": {},
   "outputs": [],
   "source": [
    "import pandas as pd\n",
    "import numpy as np\n",
    "import matplotlib.pyplot as plt"
   ]
  },
  {
   "cell_type": "code",
   "execution_count": 2,
   "metadata": {},
   "outputs": [],
   "source": [
    "#define logistic function\n",
    "def logit_mat(x,w):\n",
    "    z = np.exp(-1*np.matmul(x,w))\n",
    "    return 1/(1+z)"
   ]
  },
  {
   "cell_type": "code",
   "execution_count": 3,
   "metadata": {},
   "outputs": [],
   "source": [
    "#testing algorithm for logistic regression\n",
    "def predict(x,w):\n",
    "    length = x.shape[0]\n",
    "    prediction = np.zeros(length)\n",
    "    temp = np.matmul(x, w)\n",
    "    for i in range(length):\n",
    "        if(temp[i] > 0):\n",
    "            prediction[i] = 1\n",
    "        else:\n",
    "            prediction[i] = 0\n",
    "    return prediction"
   ]
  },
  {
   "cell_type": "code",
   "execution_count": 4,
   "metadata": {},
   "outputs": [],
   "source": [
    "#define gradient ascent function\n",
    "def batch_ascent(x,w,y):\n",
    "    return np.matmul(x.T,y-logit_mat(x,w))"
   ]
  },
  {
   "cell_type": "code",
   "execution_count": 5,
   "metadata": {},
   "outputs": [],
   "source": [
    "#accuracy and confusion matrix calculation\n",
    "def performanceCalc(pred, y):\n",
    "    #accuracy\n",
    "    sampleSize = y.shape[0]\n",
    "    true_cnt = 0\n",
    "    for i in range(sampleSize):\n",
    "        if(pred[i] == y[i]):\n",
    "            true_cnt += 1\n",
    "    accuracy = true_cnt / sampleSize\n",
    "\n",
    "    tr_pos = 0;\n",
    "    tr_neg = 0;\n",
    "    fls_pos = 0;\n",
    "    fls_neg = 0;\n",
    "    for i in range(sampleSize):\n",
    "        if(pred[i] == 1 and y[i] ==1):\n",
    "            tr_pos += 1\n",
    "        elif(pred[i] == 0 and y[i] == 0):\n",
    "            tr_neg += 1\n",
    "        elif(pred[i] == 1 and y[i] == 0):\n",
    "            fls_pos += 1\n",
    "        elif(pred[i] == 0 and y[i] == 1):\n",
    "            fls_neg += 1\n",
    "\n",
    "    \n",
    "    #performance metrics\n",
    "    precision = tr_pos / (tr_pos+fls_pos)\n",
    "    recall = tr_pos / (tr_pos+fls_neg)\n",
    "    npv = tr_neg / (tr_neg+fls_neg)\n",
    "    fpr = fls_pos / (fls_pos+tr_neg)\n",
    "    fdr = fls_pos / (tr_pos+fls_pos)\n",
    "    f1 = (2*precision*recall)/(precision+recall)\n",
    "    f2 = (5*precision*recall)/(4*precision+recall)\n",
    "    return accuracy, tr_pos, tr_neg, fls_pos,fls_neg , precision, recall, npv, fpr, fdr, f1, f2"
   ]
  },
  {
   "cell_type": "code",
   "execution_count": 6,
   "metadata": {},
   "outputs": [],
   "source": [
    "#define macro and micro statistics based on idvidiual statistics calculated in performanceCalc()\n",
    "def macroMicroAvr(pred, y):\n",
    "    accuracy_pos, tr_pos_pos, tr_neg_pos, fls_pos_pos,fls_neg_pos , precision_pos, recall_pos, npv_pos, fpr_pos, fdr_pos, f1_pos, f2_pos = performanceCalc(pred,y)\n",
    "    pred_neg = (pred==0).astype(float)\n",
    "    y_neg = (y==0).astype(float)\n",
    "    accuracy_neg, tr_pos_neg, tr_neg_neg, fls_pos_neg, fls_neg_neg, precision_neg, recall_neg, npv_neg, fpr_neg, fdr_neg, f1_neg, f2_neg = performanceCalc(pred_neg,y_neg)\n",
    "    \n",
    "    print(\"Accuracy: \" + str(accuracy_pos))\n",
    "    print(\"----------\")\n",
    "    print(\"Confusion Matrix for Positive Class\")\n",
    "    conf_matrix = pd.DataFrame([[tr_pos_pos, fls_pos_pos],[fls_neg_pos, tr_neg_pos]])\n",
    "    conf_matrix.columns = [\"actual+\", \"actual-\"]\n",
    "    conf_matrix.rename(index={0:'classifier+',1:'classifier-'}, inplace=True)\n",
    "    print(conf_matrix)\n",
    "    \n",
    "    #macro \n",
    "    mac_precision = (precision_pos+precision_neg)/2\n",
    "    mac_recall = (recall_pos+recall_neg)/2\n",
    "    mac_npv = (npv_pos+npv_neg)/2\n",
    "    mac_fpr = (fpr_pos+fpr_neg)/2\n",
    "    mac_fdr = (fdr_pos+fdr_neg)/2\n",
    "    mac_f1 = (f1_pos+f1_neg)/2\n",
    "    mac_f2 = (f2_pos+f2_neg)/2\n",
    "    #micro\n",
    "    mic_precision = (tr_pos_pos+tr_pos_neg)/(tr_pos_pos+tr_pos_neg+fls_pos_pos+fls_pos_neg)\n",
    "    mic_recall = (tr_pos_pos+tr_pos_neg)/(tr_pos_pos+tr_pos_neg+fls_neg_pos+fls_neg_neg)\n",
    "    mic_npv = (tr_neg_pos+tr_neg_neg)/(tr_neg_pos+tr_neg_neg+fls_neg_pos+fls_neg_neg)\n",
    "    mic_fpr = (fls_pos_pos+fls_pos_neg)/(fls_pos_pos+fls_pos_neg+tr_neg_pos+tr_neg_neg)\n",
    "    mic_fdr = (fls_pos_pos+fls_pos_neg)/(fls_pos_pos+fls_pos_neg+tr_pos_pos+tr_pos_neg)\n",
    "    mic_f1 = (2*precision_pos*recall_pos+2*precision_neg*recall_neg)/(precision_pos+recall_pos+precision_neg+recall_neg)\n",
    "    mic_f2 = (5*precision_pos*recall_pos+5*precision_neg*recall_neg)/(4*precision_pos+recall_pos+4*precision_neg+recall_neg)\n",
    "    \n",
    "    print(\"---------\")\n",
    "    print(\"Macro Statistics\")\n",
    "    print(\"Macro Precision: \" + str(mac_precision))\n",
    "    print(\"Macro Recall: \" + str(mac_recall))\n",
    "    print(\"Macro NPV: \" + str(mac_npv))\n",
    "    print(\"Macro FPR: \" + str(mac_fpr))\n",
    "    print(\"Macro FDR: \" + str(mac_fdr))\n",
    "    print(\"Macro F1: \" + str(mac_f1))\n",
    "    print(\"Macro F2: \" + str(mac_f2))\n",
    "    print(\"---------\")\n",
    "    print(\"Micro Statistics\")\n",
    "    print(\"Micro Precision: \" + str(mic_precision))\n",
    "    print(\"Micro Recall: \" + str(mic_recall))\n",
    "    print(\"Micro NPV: \" + str(mic_npv))\n",
    "    print(\"Micro FPR: \" + str(mic_fpr))\n",
    "    print(\"Micro FDR: \" + str(mic_fdr))\n",
    "    print(\"Micro F1: \" + str(mic_f1))\n",
    "    print(\"Micro F2: \" + str(mic_f2))\n",
    "    print(\"----------\")"
   ]
  },
  {
   "cell_type": "code",
   "execution_count": 7,
   "metadata": {},
   "outputs": [],
   "source": [
    "#define the conditional log likelihood to decide on the best learning rate \n",
    "def loglikelihood(w,x,y):\n",
    "    z = np.matmul(x,w)\n",
    "    return np.sum(np.multiply(y,z) - np.log(1+np.exp(z)))"
   ]
  },
  {
   "cell_type": "code",
   "execution_count": 8,
   "metadata": {},
   "outputs": [],
   "source": [
    "#deifne chunks to divide the feature into sets with mini-batch/stochastic ascent algorithm\n",
    "def chunks(l, n):\n",
    "    for i in range(0, len(l), n):\n",
    "        yield l[i:i+n]"
   ]
  },
  {
   "cell_type": "code",
   "execution_count": 9,
   "metadata": {},
   "outputs": [
    {
     "name": "stdout",
     "output_type": "stream",
     "text": [
      "   pseudo  month   hr  weekday  weathersit  temp   atemp   hum  windspeed\n",
      "0     1.0    1.0  1.0      6.0         1.0  0.22  0.2727  0.80     0.0000\n",
      "1     1.0    1.0  2.0      6.0         1.0  0.22  0.2727  0.80     0.0000\n",
      "2     1.0    1.0  3.0      6.0         1.0  0.24  0.2879  0.75     0.0000\n",
      "3     1.0    1.0  4.0      6.0         1.0  0.24  0.2879  0.75     0.0000\n",
      "4     1.0    1.0  5.0      6.0         2.0  0.24  0.2576  0.75     0.0896\n",
      "   bikes\n",
      "0   40.0\n",
      "1   32.0\n",
      "2   13.0\n",
      "3    1.0\n",
      "4    1.0\n",
      "(14000, 9)\n",
      "   pseudo  month    hr  weekday  weathersit  temp   atemp   hum  windspeed\n",
      "0     1.0    8.0  14.0      6.0         1.0  0.80  0.7424  0.49     0.2985\n",
      "1     1.0    8.0  15.0      6.0         1.0  0.80  0.7273  0.46     0.2836\n",
      "2     1.0    8.0  16.0      6.0         1.0  0.80  0.7273  0.46     0.2985\n",
      "3     1.0    8.0  17.0      6.0         3.0  0.74  0.6970  0.66     0.3582\n",
      "4     1.0    8.0  18.0      6.0         2.0  0.70  0.6667  0.74     0.2985\n",
      "   bikes\n",
      "0  538.0\n",
      "1  562.0\n",
      "2  531.0\n",
      "3  512.0\n",
      "4  300.0\n",
      "(3378, 9)\n"
     ]
    }
   ],
   "source": [
    "#import data\n",
    "x_train = pd.read_csv('question-2-train-features.csv', header=None, sep=',', names=[\"month\",\"hr\",\n",
    "                                                                                    \"weekday\",\"weathersit\",\n",
    "                                                                                    \"temp\",\"atemp\",\"hum\",\n",
    "                                                                                    \"windspeed\"])\n",
    "y_train = pd.read_csv('question-2-train-labels.csv', header=None, sep=',', names=[\"bikes\"])\n",
    "x_test = pd.read_csv('question-2-test-features.csv', header=None, sep=',', names=[\"month\",\"hr\",\n",
    "                                                                                    \"weekday\",\"weathersit\",\n",
    "                                                                                    \"temp\",\"atemp\",\"hum\",\n",
    "                                                                                    \"windspeed\"])\n",
    "y_test = pd.read_csv('question-2-test-labels.csv', header=None, names=[\"bikes\"])\n",
    "\n",
    "x_test.insert(loc=0, column='pseudo', value=np.ones(x_test.shape[0]))\n",
    "x_train.insert(loc=0, column='pseudo', value=np.ones(x_train.shape[0]))\n",
    "\n",
    "x_train_arr = np.asarray(x_train)\n",
    "y_train_arr = np.asarray(y_train)\n",
    "x_test_arr = np.asarray(x_test)\n",
    "y_test_arr = np.asarray(y_test)\n",
    "print(x_train.head(5))\n",
    "print(y_train.head(5))\n",
    "print(x_train.shape)\n",
    "print(x_test.head(5))\n",
    "print(y_test.head(5))\n",
    "print(x_test.shape)"
   ]
  },
  {
   "cell_type": "code",
   "execution_count": 10,
   "metadata": {},
   "outputs": [
    {
     "name": "stdout",
     "output_type": "stream",
     "text": [
      "189.47306939808954\n",
      "(3378, 1)\n",
      "(14000, 1)\n"
     ]
    }
   ],
   "source": [
    "#discretizing the labels\n",
    "#find mean of labels\n",
    "all_label = pd.concat([y_test, y_train], axis=0, sort = True)\n",
    "label_mean = np.mean(all_label.values)\n",
    "print(label_mean)\n",
    "#discretizing\n",
    "for i in range(y_test.shape[0]):\n",
    "    if(y_test_arr[i] >= label_mean):\n",
    "        y_test_arr[i] = 1\n",
    "    else:\n",
    "        y_test_arr[i] = 0\n",
    "y_test = pd.DataFrame(y_test_arr)\n",
    "print(y_test.shape)\n",
    "for i in range(y_train.shape[0]):\n",
    "    if(y_train_arr[i] >= label_mean):\n",
    "        y_train_arr[i] = 1\n",
    "    else:\n",
    "        y_train_arr[i] = 0\n",
    "y_train = pd.DataFrame(y_train_arr)\n",
    "print(y_train.shape)"
   ]
  },
  {
   "cell_type": "markdown",
   "metadata": {},
   "source": [
    "# Question 3.1\n",
    "## Try different learning rates to choose the best one."
   ]
  },
  {
   "cell_type": "code",
   "execution_count": 11,
   "metadata": {
    "scrolled": true
   },
   "outputs": [
    {
     "name": "stderr",
     "output_type": "stream",
     "text": [
      "c:\\users\\dell\\appdata\\local\\programs\\python\\python37\\lib\\site-packages\\ipykernel_launcher.py:3: RuntimeWarning: overflow encountered in exp\n",
      "  This is separate from the ipykernel package so we can avoid doing imports until\n"
     ]
    },
    {
     "name": "stdout",
     "output_type": "stream",
     "text": [
      "[[-1.73718967e+00 -1.49890839e+01 -1.53924868e+02 -1.53788154e+03\n",
      "  -1.53676111e+04]\n",
      " [ 3.12430625e-01  2.66837224e+00 -5.17774722e+00 -5.21827278e+01\n",
      "  -5.28351010e+02]\n",
      " [ 7.34121103e-01  7.94121242e+00  3.39482124e+00  3.31674432e+01\n",
      "   3.06130383e+02]\n",
      " [ 1.04921709e-01 -5.63511556e-02 -1.58990065e+01 -1.58497904e+02\n",
      "  -1.58549107e+03]\n",
      " [-3.68980480e+00 -3.36299390e+01 -3.40305269e+02 -3.39871616e+03\n",
      "  -3.38610586e+04]\n",
      " [ 3.04904078e+00  3.13856405e+01  3.11217006e+02  3.11110741e+03\n",
      "   3.10752916e+04]\n",
      " [ 2.67864391e+00  2.76136357e+01  2.73618374e+02  2.73519450e+03\n",
      "   2.73204637e+04]\n",
      " [-2.97170937e+00 -2.88393977e+01 -2.90212812e+02 -2.90060720e+03\n",
      "  -2.89804270e+04]\n",
      " [-1.21858415e-01 -7.03038527e-01 -7.76728478e+00 -7.72092145e+01\n",
      "  -7.68762940e+02]]\n"
     ]
    }
   ],
   "source": [
    "#initialize the weight vector\n",
    "weight_temp = np.zeros((x_train_arr.shape[1],1))\n",
    "#apply gradient ascent to find the logistic regression parameters\n",
    "iterationNo = 1000\n",
    "learn_rates = np.array([10**-5, 10**-4, 10**-3, 10**-2, 10**-1])\n",
    "#init weight matrix\n",
    "weights = np.zeros((x_train_arr.shape[1],learn_rates.shape[0]))\n",
    "cnt = 0\n",
    "for rate in learn_rates:\n",
    "    for i in range(iterationNo):\n",
    "        weight_temp += rate * batch_ascent(x_train_arr,weight_temp,y_train_arr)\n",
    "    weights[:,cnt] = weight_temp.reshape(x_train_arr.shape[1])\n",
    "    cnt+=1\n",
    "    #reinitialize the weight vector\n",
    "    weight_temp = np.zeros((x_train_arr.shape[1],1))\n",
    "print(weights)"
   ]
  },
  {
   "cell_type": "code",
   "execution_count": 12,
   "metadata": {},
   "outputs": [
    {
     "name": "stdout",
     "output_type": "stream",
     "text": [
      "[[-3.55589053e+04]\n",
      " [-3.97990673e+05]\n",
      " [-2.29847390e+06]\n",
      " [-2.30134179e+07]\n",
      " [-2.31486303e+08]]\n"
     ]
    }
   ],
   "source": [
    "#choosing will be based on the max log likelihood\n",
    "likes = np.zeros((weights.shape[1],1))\n",
    "for i in range(weights.shape[1]):\n",
    "    likes[i] = loglikelihood(weights[:,i].reshape((weights.shape[0],1)),x_train_arr,y_train_arr)\n",
    "print(likes)"
   ]
  },
  {
   "cell_type": "code",
   "execution_count": 13,
   "metadata": {},
   "outputs": [
    {
     "data": {
      "image/png": "[encoded data removed]",
      "text/plain": [
       "<Figure size 432x288 with 1 Axes>"
      ]
     },
     "metadata": {
      "needs_background": "light"
     },
     "output_type": "display_data"
    }
   ],
   "source": [
    "#plot the log-likelihoods vs learning rate\n",
    "plt.semilogx(learn_rates,likes)\n",
    "plt.xlabel(\"Learning Rates\")\n",
    "plt.ylabel(\"Log Likelihoods\")\n",
    "plt.title(\"Likelihoods vs. Learning Rate\")\n",
    "plt.grid()\n",
    "plt.show()"
   ]
  },
  {
   "cell_type": "code",
   "execution_count": 14,
   "metadata": {},
   "outputs": [
    {
     "name": "stdout",
     "output_type": "stream",
     "text": [
      "[-1.73718967  0.31243063  0.7341211   0.10492171 -3.6898048   3.04904078\n",
      "  2.67864391 -2.97170937 -0.12185841]\n",
      "1e-05\n"
     ]
    }
   ],
   "source": [
    "opt_weight = weights[:,np.argmax(likes)]\n",
    "print(opt_weight)\n",
    "opt_rate = learn_rates[np.argmax(likes)]\n",
    "print(opt_rate)"
   ]
  },
  {
   "cell_type": "markdown",
   "metadata": {},
   "source": [
    "## Test and Report Results"
   ]
  },
  {
   "cell_type": "code",
   "execution_count": 15,
   "metadata": {},
   "outputs": [
    {
     "name": "stdout",
     "output_type": "stream",
     "text": [
      "Accuracy: 0.7048549437537004\n",
      "----------\n",
      "Confusion Matrix for Positive Class\n",
      "             actual+  actual-\n",
      "classifier+     1721      953\n",
      "classifier-       44      660\n",
      "---------\n",
      "Macro Statistics\n",
      "Macro Precision: 0.7905525430067315\n",
      "Macro Recall: 0.6921231355013884\n",
      "Macro NPV: 0.7905525430067315\n",
      "Macro FPR: 0.3078768644986117\n",
      "Macro FDR: 0.2094474569932685\n",
      "Macro F1: 0.6725510329782816\n",
      "Macro F2: 0.6725831373908745\n",
      "---------\n",
      "Micro Statistics\n",
      "Micro Precision: 0.7048549437537004\n",
      "Micro Recall: 0.7048549437537004\n",
      "Micro NPV: 0.7048549437537004\n",
      "Micro FPR: 0.2951450562462996\n",
      "Micro FDR: 0.2951450562462996\n",
      "Micro F1: 0.6819849671091096\n",
      "Micro F2: 0.655860847494576\n",
      "----------\n"
     ]
    }
   ],
   "source": [
    "prediction = predict(x_test_arr,opt_weight.reshape((opt_weight.shape[0],1)))\n",
    "macroMicroAvr(prediction, y_test_arr)"
   ]
  },
  {
   "cell_type": "markdown",
   "metadata": {},
   "source": [
    "# Question 3.2\n",
    "## Mini-Batch Gradient Ascent"
   ]
  },
  {
   "cell_type": "code",
   "execution_count": 16,
   "metadata": {},
   "outputs": [
    {
     "name": "stdout",
     "output_type": "stream",
     "text": [
      "[[-1.62888768]\n",
      " [ 0.02062638]\n",
      " [ 0.08231046]\n",
      " [ 0.01339434]\n",
      " [-0.32571506]\n",
      " [ 1.66922083]\n",
      " [ 1.46332872]\n",
      " [-1.88684514]\n",
      " [-0.06407071]]\n"
     ]
    }
   ],
   "source": [
    "batch_size = 32\n",
    "iterationNo = 1000\n",
    "batch_no = np.ceil(x_train_arr.shape[0] / batch_size)\n",
    "\n",
    "min_btc_weights = np.zeros((x_train.shape[1],1))\n",
    "\n",
    "np.random.seed(0)\n",
    "for i in range(iterationNo):\n",
    "    idx = np.random.permutation(len(x_train_arr))\n",
    "    x_tr_arr_shuf,y_tr_arr_shuf = x_train_arr[idx], y_train_arr[idx]\n",
    "    x_cnks = list(chunks(x_tr_arr_shuf, batch_size))\n",
    "    y_cnks = list(chunks(y_tr_arr_shuf, batch_size))\n",
    "    for b_ind in range(int(batch_no)):\n",
    "        batch_x = x_cnks[b_ind]\n",
    "        batch_y = y_cnks[b_ind]\n",
    "        min_btc_weights += (opt_rate/batch_size) * (batch_ascent(batch_x,min_btc_weights,batch_y))*batch_x.shape[0]\n",
    "print(min_btc_weights)\n",
    "    "
   ]
  },
  {
   "cell_type": "code",
   "execution_count": 17,
   "metadata": {},
   "outputs": [
    {
     "name": "stdout",
     "output_type": "stream",
     "text": [
      "Accuracy: 0.6862048549437537\n",
      "----------\n",
      "Confusion Matrix for Positive Class\n",
      "             actual+  actual-\n",
      "classifier+      853      148\n",
      "classifier-      912     1465\n",
      "---------\n",
      "Macro Statistics\n",
      "Macro Precision: 0.7342354742438882\n",
      "Macro Recall: 0.6957658121249269\n",
      "Macro NPV: 0.7342354742438882\n",
      "Macro FPR: 0.3042341878750731\n",
      "Macro FDR: 0.26576452575611176\n",
      "Macro F1: 0.6755554830677561\n",
      "Macro F2: 0.6793714828948466\n",
      "---------\n",
      "Micro Statistics\n",
      "Micro Precision: 0.6862048549437537\n",
      "Micro Recall: 0.6862048549437537\n",
      "Micro NPV: 0.6862048549437537\n",
      "Micro FPR: 0.3137951450562463\n",
      "Micro FDR: 0.3137951450562463\n",
      "Micro F1: 0.6794426827220804\n",
      "Micro F2: 0.6686499356061869\n",
      "----------\n"
     ]
    }
   ],
   "source": [
    "min_btc_prediction = predict(x_test_arr,min_btc_weights)\n",
    "macroMicroAvr(min_btc_prediction, y_test_arr)"
   ]
  },
  {
   "cell_type": "markdown",
   "metadata": {},
   "source": [
    "## Stochastic Gradient Ascent"
   ]
  },
  {
   "cell_type": "code",
   "execution_count": 18,
   "metadata": {
    "scrolled": false
   },
   "outputs": [
    {
     "name": "stdout",
     "output_type": "stream",
     "text": [
      "[[-1.62935501]\n",
      " [ 0.02059789]\n",
      " [ 0.08230649]\n",
      " [ 0.01342694]\n",
      " [-0.32558727]\n",
      " [ 1.66970225]\n",
      " [ 1.46376512]\n",
      " [-1.88734992]\n",
      " [-0.06405414]]\n"
     ]
    }
   ],
   "source": [
    "#initialize the weight vector\n",
    "stoc_weights = np.zeros((x_train.shape[1],1))\n",
    "#apply gradient ascent to find the logistic regression parameters\n",
    "iterationNo = 1000\n",
    "np.random.seed(0)\n",
    "cnt=0\n",
    "for i in range(iterationNo):\n",
    "    idx = np.random.permutation(len(x_train_arr))\n",
    "    x_tr_arr_shuf,y_tr_arr_shuf = x_train_arr[idx], y_train_arr[idx]\n",
    "    for b_ind in range(x_tr_arr_shuf.shape[0]):\n",
    "        rand_feature = x_tr_arr_shuf[b_ind,:].reshape((x_tr_arr_shuf.shape[1],1)).T\n",
    "        rand_label = y_tr_arr_shuf[b_ind,:].reshape((y_tr_arr_shuf.shape[1],1))\n",
    "        stoc_weights += opt_rate * batch_ascent(rand_feature,stoc_weights,rand_label)\n",
    "print(stoc_weights)"
   ]
  },
  {
   "cell_type": "code",
   "execution_count": 19,
   "metadata": {
    "scrolled": false
   },
   "outputs": [
    {
     "name": "stdout",
     "output_type": "stream",
     "text": [
      "Accuracy: 0.6859088217880402\n",
      "----------\n",
      "Confusion Matrix for Positive Class\n",
      "             actual+  actual-\n",
      "classifier+      852      148\n",
      "classifier-      913     1465\n",
      "---------\n",
      "Macro Statistics\n",
      "Macro Precision: 0.7340319596299412\n",
      "Macro Recall: 0.6954825260059467\n",
      "Macro NPV: 0.7340319596299412\n",
      "Macro FPR: 0.30451747399405327\n",
      "Macro FDR: 0.2659680403700589\n",
      "Macro F1: 0.6752133530099143\n",
      "Macro F2: 0.6790471520223464\n",
      "---------\n",
      "Micro Statistics\n",
      "Micro Precision: 0.6859088217880402\n",
      "Micro Recall: 0.6859088217880402\n",
      "Micro NPV: 0.6859088217880402\n",
      "Micro FPR: 0.31409117821195975\n",
      "Micro FDR: 0.31409117821195975\n",
      "Micro F1: 0.6791217222392335\n",
      "Micro F2: 0.6683084375832844\n",
      "----------\n"
     ]
    }
   ],
   "source": [
    "sto_prediction = predict(x_test_arr,stoc_weights)\n",
    "macroMicroAvr(sto_prediction, y_test_arr)"
   ]
  }
 ],
 "metadata": {
  "kernelspec": {
   "display_name": "Python 3",
   "language": "python",
   "name": "python3"
  },
  "language_info": {
   "codemirror_mode": {
    "name": "ipython",
    "version": 3
   },
   "file_extension": ".py",
   "mimetype": "text/x-python",
   "name": "python",
   "nbconvert_exporter": "python",
   "pygments_lexer": "ipython3",
   "version": "3.7.2"
  }
 },
 "nbformat": 4,
 "nbformat_minor": 2
}
